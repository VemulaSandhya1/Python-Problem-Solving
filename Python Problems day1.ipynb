{
 "cells": [
  {
   "cell_type": "markdown",
   "id": "bcb5be5d-7ce1-49d6-be5e-7c007272836d",
   "metadata": {},
   "source": [
    "1. Write a python program to find the given number is a positive or negative number?"
   ]
  },
  {
   "cell_type": "code",
   "execution_count": 1,
   "id": "44039829-60c2-45f4-993e-6ed03b1f1031",
   "metadata": {},
   "outputs": [
    {
     "name": "stdin",
     "output_type": "stream",
     "text": [
      "enter the number:  4\n"
     ]
    },
    {
     "name": "stdout",
     "output_type": "stream",
     "text": [
      "4 is positive number\n"
     ]
    }
   ],
   "source": [
    "number = int(input(\"enter the number: \"))\n",
    "if number>0:\n",
    "    print(f\"{number} is positive number\")\n",
    "             \n",
    "elif number==0:\n",
    "    print(\"It's a Zero\")\n",
    "             \n",
    "else:\n",
    "    print(f\"{number} is negative number\")\n",
    "             \n",
    "             "
   ]
  },
  {
   "cell_type": "markdown",
   "id": "de76bbb9-4ad3-4fad-bcd2-4dbceeaef900",
   "metadata": {},
   "source": [
    "2. Write a python program to find the given number is a even or odd number?"
   ]
  },
  {
   "cell_type": "code",
   "execution_count": 2,
   "id": "93071ebc-1cb3-4421-8f92-d4fd3d0ab880",
   "metadata": {},
   "outputs": [
    {
     "name": "stdin",
     "output_type": "stream",
     "text": [
      "enter the number:  3\n"
     ]
    },
    {
     "name": "stdout",
     "output_type": "stream",
     "text": [
      "3 is odd number\n"
     ]
    }
   ],
   "source": [
    "number = int(input(\"enter the number: \"))\n",
    "if number%2==0:\n",
    "    print(f\"{number} is even number\")\n",
    "             \n",
    "elif number==0:\n",
    "    print(\"It's a Zero\")\n",
    "             \n",
    "else:\n",
    "    print(f\"{number} is odd number\")"
   ]
  },
  {
   "cell_type": "markdown",
   "id": "29be638e-7225-4bdd-980f-998ef3fad272",
   "metadata": {},
   "source": [
    "3. Write a python program to find the given year is a leaf year or not? using Functions"
   ]
  },
  {
   "cell_type": "code",
   "execution_count": 3,
   "id": "0ae608f2-c7a3-48e8-b7e7-f197ecd203f1",
   "metadata": {},
   "outputs": [
    {
     "name": "stdout",
     "output_type": "stream",
     "text": [
      "It's a leap year\n"
     ]
    }
   ],
   "source": [
    "#if year a leaf year it follows the below conditions\n",
    "#(year%4==0 and year%100!=0) or (year%100==0)\n",
    "def checkyear(year):\n",
    "    if ((year%4==0)and (year%100!=0))or(year%400==0):\n",
    "         print(\"It's a leap year\")\n",
    "    else:\n",
    "        print(\"It's not a leap year\")\n",
    "checkyear(2024)"
   ]
  },
  {
   "cell_type": "markdown",
   "id": "8fbe06ec-7021-4617-9ffd-c8cd5f6693f5",
   "metadata": {},
   "source": [
    "4. Write a python program to find the largest number in the given numbers?"
   ]
  },
  {
   "cell_type": "code",
   "execution_count": 4,
   "id": "981f224c-5c9f-4098-81db-d5cdac4a90c1",
   "metadata": {},
   "outputs": [
    {
     "name": "stdin",
     "output_type": "stream",
     "text": [
      "enter the 1st number:  5\n",
      "enter the 2nd number:  7\n",
      "enter the 3rd number:  8\n"
     ]
    },
    {
     "name": "stdout",
     "output_type": "stream",
     "text": [
      "8.0 is Largest\n"
     ]
    }
   ],
   "source": [
    "num1 = float(input(\"enter the 1st number: \"))\n",
    "num2 = float(input(\"enter the 2nd number: \"))\n",
    "num3 = float(input(\"enter the 3rd number: \"))\n",
    "\n",
    "if((num1>num2) and (num1>num3)):\n",
    "    print(f\"{num1} is Largest\")\n",
    "    \n",
    "elif((num2>num1) and (num2>num3)):\n",
    "    print(f\"{num2} is Largest\")\n",
    "else:\n",
    "    print(f\"{num3} is Largest\")"
   ]
  },
  {
   "cell_type": "markdown",
   "id": "a090d091-da89-450d-85a3-27cd5ed0822a",
   "metadata": {},
   "source": [
    "5.  Write a python program to find the given number is prime number or not?"
   ]
  },
  {
   "cell_type": "code",
   "execution_count": 5,
   "id": "240b1f95-898e-4d0a-b818-bcb98e25563b",
   "metadata": {},
   "outputs": [
    {
     "name": "stdin",
     "output_type": "stream",
     "text": [
      "enter the number:  43\n"
     ]
    },
    {
     "name": "stdout",
     "output_type": "stream",
     "text": [
      "It's a prime\n"
     ]
    }
   ],
   "source": [
    "#if the number is multiple of 1 and it self is called prime number\n",
    "number =int(input(\"enter the number: \"))\n",
    "if number>1:\n",
    "    for i in range(2, (number%2)+1):\n",
    "        if number%i==0:\n",
    "            print(\"It's not a prime\")\n",
    "            break\n",
    "    else:\n",
    "        print(\"It's a prime\")\n",
    "else:\n",
    "        print(\"It's not a prime\")        \n",
    "    "
   ]
  },
  {
   "cell_type": "markdown",
   "id": "811d085b-2149-46f1-b0aa-8467cc3b8b65",
   "metadata": {},
   "source": [
    "6. Write a python program to find the given string a palindrome or not?"
   ]
  },
  {
   "cell_type": "code",
   "execution_count": 6,
   "id": "2259d0e9-f5c2-4e9f-9f1b-41f3c9ce0282",
   "metadata": {},
   "outputs": [
    {
     "name": "stdin",
     "output_type": "stream",
     "text": [
      "enter the string:  sandhya\n"
     ]
    },
    {
     "name": "stdout",
     "output_type": "stream",
     "text": [
      "it's not a palindrome\n"
     ]
    }
   ],
   "source": [
    "# reverse string is equal to original string ---poalindrom\n",
    "string = input(\"enter the string: \")\n",
    "\n",
    "if string ==string[::-1]:\n",
    "    print(\"it's a palindrome\")\n",
    "else:\n",
    "    print(\"it's not a palindrome\")\n"
   ]
  },
  {
   "cell_type": "markdown",
   "id": "7e1cd2d5-0d11-47bc-9633-31b8ccad34dc",
   "metadata": {},
   "source": [
    "7. Write a python program to find the given number is armstrong number or not?\n"
   ]
  },
  {
   "cell_type": "code",
   "execution_count": 7,
   "id": "28d5215f-6121-4367-a2d5-1e7262b7fe4b",
   "metadata": {},
   "outputs": [
    {
     "name": "stdin",
     "output_type": "stream",
     "text": [
      "enter the number:  407\n"
     ]
    },
    {
     "name": "stdout",
     "output_type": "stream",
     "text": [
      "it's a armstrong number\n"
     ]
    }
   ],
   "source": [
    "#armstrong Number = sum of powers of number count is equal to its original number\n",
    "#ex----153=1^3+2^3+3^3\n",
    "num =int(input(\"enter the number: \"))\n",
    "sum=0\n",
    "temp=num\n",
    "while temp>0:\n",
    "    digits=temp%10\n",
    "    sum=sum+(digits**3)\n",
    "    temp=temp//10\n",
    "if(sum==num):\n",
    "    print(\"it's a armstrong number\")\n",
    "else:\n",
    "    print(\"it's not a armstrong number\")\n",
    "    "
   ]
  },
  {
   "cell_type": "markdown",
   "id": "55fe1b63-cea0-4b60-8b91-af4404e534ae",
   "metadata": {},
   "source": [
    "8. Write a python program to find the sum of elements in a list?"
   ]
  },
  {
   "cell_type": "code",
   "execution_count": 10,
   "id": "38e9cfd7-feb4-4b7d-9484-30e3e201487f",
   "metadata": {},
   "outputs": [
    {
     "name": "stdout",
     "output_type": "stream",
     "text": [
      "total sum of elements in a list is:  42\n"
     ]
    }
   ],
   "source": [
    "list = [2,4,5,6,7,8, 10]\n",
    "sum=0\n",
    "for i in list:\n",
    "    sum=sum+i\n",
    "print(\"total sum of elements in a list is: \",sum)\n",
    "    "
   ]
  },
  {
   "cell_type": "markdown",
   "id": "0ef3d51d-bad2-4801-abd1-fea7231b65fb",
   "metadata": {},
   "source": [
    "10. Write a python program to find the sum of elements in a list?"
   ]
  },
  {
   "cell_type": "code",
   "execution_count": 30,
   "id": "a8ddea24-b4df-4bcc-ae65-e5468bd46d92",
   "metadata": {},
   "outputs": [
    {
     "name": "stdout",
     "output_type": "stream",
     "text": [
      "[6, 9, 12, 15, 18, 21]\n"
     ]
    }
   ],
   "source": [
    "list1 = [2,3,4,5,6,7]\n",
    "list2 = [4,6,8,10,12,14]\n",
    "resultent_list=[]\n",
    "\n",
    "for i in range(len(list2)):\n",
    "    resultent_list.append(list1[i]+list2[i])\n",
    "print(resultent_list)"
   ]
  },
  {
   "cell_type": "code",
   "execution_count": null,
   "id": "50ee56cd-2374-4bf4-8b13-98465121ad44",
   "metadata": {},
   "outputs": [],
   "source": []
  }
 ],
 "metadata": {
  "kernelspec": {
   "display_name": "Python 3 (ipykernel)",
   "language": "python",
   "name": "python3"
  },
  "language_info": {
   "codemirror_mode": {
    "name": "ipython",
    "version": 3
   },
   "file_extension": ".py",
   "mimetype": "text/x-python",
   "name": "python",
   "nbconvert_exporter": "python",
   "pygments_lexer": "ipython3",
   "version": "3.10.6"
  }
 },
 "nbformat": 4,
 "nbformat_minor": 5
}
